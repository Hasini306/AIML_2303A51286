{
  "nbformat": 4,
  "nbformat_minor": 0,
  "metadata": {
    "colab": {
      "provenance": [],
      "authorship_tag": "ABX9TyNUlauqTLa9jJUzAkLnsQzl",
      "include_colab_link": true
    },
    "kernelspec": {
      "name": "python3",
      "display_name": "Python 3"
    },
    "language_info": {
      "name": "python"
    }
  },
  "cells": [
    {
      "cell_type": "markdown",
      "metadata": {
        "id": "view-in-github",
        "colab_type": "text"
      },
      "source": [
        "<a href=\"https://colab.research.google.com/github/Hasini306/AIML_2303A51286/blob/main/Lab3.ipynb\" target=\"_parent\"><img src=\"https://colab.research.google.com/assets/colab-badge.svg\" alt=\"Open In Colab\"/></a>"
      ]
    },
    {
      "cell_type": "code",
      "execution_count": null,
      "metadata": {
        "id": "GWHoJtPyyRzf"
      },
      "outputs": [],
      "source": []
    },
    {
      "cell_type": "markdown",
      "source": [
        "1 Implement the AI Game Strategy\n",
        "Part 1 –(a). Install the Python Libraries required for Game Strategy. [CO2]\n",
        "1. Install the python libraries - collections, random, math, functools,\n",
        "cache = functools.lru cache(10**6)\n",
        "2. Implement a Game Class Constructor using action, is terminal, result, utility functions\n",
        "3. A game is similar to a problem, but it has a terminal test instead of a goal test, and a\n",
        "utility for each terminal state.\n",
        "4. Create a game subclass and implement actions, result, is terminal, and utility .\n",
        "5. You will also need to set the initial attribute to the initial state; this can be done in the\n",
        "constructor."
      ],
      "metadata": {
        "id": "BykXdNrJyTCR"
      }
    },
    {
      "cell_type": "code",
      "source": [
        "class Game:\n",
        "  def actions (self , state ):\n",
        "     raise NotImplementedError\n",
        "  def result (self , state , move ):\n",
        "     raise NotImplementedError\n",
        "  def is_terminal (self , state ):\n",
        "     return not self. actions (state)\n",
        "  def utility (self , state , player ):\n",
        "    raise NotImplementedError"
      ],
      "metadata": {
        "id": "acAD_U1mycvq"
      },
      "execution_count": null,
      "outputs": []
    },
    {
      "cell_type": "markdown",
      "source": [
        "6. Implement a Player Game using the Game Class Constructor."
      ],
      "metadata": {
        "id": "mRX6BQPbzYnt"
      }
    },
    {
      "cell_type": "code",
      "source": [
        "def play_game (game , strategies : dict , verbose =False ):\n",
        "    state = game. initial\n",
        "    while not game. is_terminal (state ):\n",
        "        player = state. to_move\n",
        "        move = strategies [ player ](game , state)\n",
        "        state = game. result (state , move)\n",
        "        if verbose :\n",
        "           print('Player:', player , 'move:', move)\n",
        "           print(state)\n",
        "        return state"
      ],
      "metadata": {
        "id": "thQjCJTozfjV"
      },
      "execution_count": null,
      "outputs": []
    },
    {
      "cell_type": "markdown",
      "source": [
        "\n",
        "Part 2 – Implement the Game Strategy Algorithms. [CO3]\n",
        "1. Implement the MiniMax Search Algorithm"
      ],
      "metadata": {
        "id": "sebbdz6K0ctB"
      }
    },
    {
      "cell_type": "code",
      "source": [
        "def minimax_search (game , state ):\n",
        "   player = state. to_move\n",
        "   def max_value (state ):\n",
        "      if game. is_terminal (state ):\n",
        "        return game. utility (state , player ), None\n",
        "        v, move = infinity , None\n",
        "        for a in game. actions (state ):\n",
        "           v2 , = min_value (game. result (state , a))\n",
        "           if v2 > v:\n",
        "              v, move = v2 , a\n",
        "              return v, move\n",
        "   def min_value (state ):\n",
        "       if game. is_terminal (state ):\n",
        "          return game. utility (state , player ), None\n",
        "          v, move = +infinity , None\n",
        "          for a in game. actions (state ):\n",
        "               v2 , = max_value (game. result (state , a))\n",
        "               if v2 < v:\n",
        "                 v, move = v2 , a\n",
        "                 return v, move\n",
        "                 return max_value (state)\n",
        "                 infinity = math.inf"
      ],
      "metadata": {
        "id": "UY5Yv0UO0qmP"
      },
      "execution_count": null,
      "outputs": []
    },
    {
      "cell_type": "markdown",
      "source": [
        "2. Implement the Alpha-Beta Search Algorithm"
      ],
      "metadata": {
        "id": "cs9MoBta2IB_"
      }
    },
    {
      "cell_type": "code",
      "source": [
        "\n",
        "def alphabeta_search (game , state ):\n",
        "     player = state. to_move\n",
        "     def max_value (state , alpha , beta ):\n",
        "        if game. is_terminal (state ):\n",
        "              return game. utility (state , player ), None\n",
        "              v, move = -infinity , None\n",
        "              for a in game. actions (state ):\n",
        "                  v2 , = min_value (game. result (state , a), alpha , beta)\n",
        "                  if v2 > v:\n",
        "                      v, move = v2 , a\n",
        "                      alpha = max(alpha , v)\n",
        "                      if v >= beta:\n",
        "                           return v, move\n",
        "                           return v, move\n",
        "     def min_value (state , alpha , beta ):\n",
        "        if game. is_terminal (state ):\n",
        "            return game. utility (state , player ), None\n",
        "            v, move = +infinity , None\n",
        "            for a in game. actions (state ):\n",
        "                   v2 , = max_value (game. result (state , a), alpha , beta)\n",
        "                   if v2 < v:\n",
        "                        v, move = v2 , a\n",
        "                        beta = min(beta , v)\n",
        "                        if v <= alpha:\n",
        "                                return v, move\n",
        "                                return v, move\n",
        "                                return max_value (state , -infinity , + infinity )"
      ],
      "metadata": {
        "id": "MHuPe1dj2S_N"
      },
      "execution_count": null,
      "outputs": []
    },
    {
      "cell_type": "markdown",
      "source": [
        "Part 3 – Implement the Game Strategy using TicTocToe. [CO4]\n",
        "1. Implement TicToCToe game using init , actions, result, is terminal, utility,\n",
        "display constructors"
      ],
      "metadata": {
        "id": "xVlRC7hD4Zle"
      }
    },
    {
      "cell_type": "code",
      "source": [
        "class TicTacToe (Game ):\n",
        "  def __init__ (self , height =3, width =3, k=3):\n",
        "        self.k = k # k in a row\n",
        "        self. squares = {(x, y) for x in range (width) for y in range( height)}\n",
        "        self. initial = Board( height =height , width=width , to_move ='X', utility =0)\n",
        "  def actions (self , board ):\n",
        "       return self.squares  -set(board)\n",
        "  def result (self , board , square ):\n",
        "       player = board. to_move\n",
        "       board = board.new({square : player}, to_move =('O' if player == 'X' else 'X'))\n",
        "       win = k_in_row (board , player , square , self.k)\n",
        "       board. utility = (0 if not win else +1 if player == 'X' else 1)\n",
        "       return board\n",
        "  def utility (self , board , player ):\n",
        "         return board. utility if player == 'X' else board. utility\n",
        "  def is_terminal (self , board ):\n",
        "       return board. utility != 0 or len(self. squares ) == len(board)\n",
        "  def display (self , board ): print(board)\n",
        "  def k_in_row (board , player , square , k):\n",
        "     def in_row (x, y, dx , dy):\n",
        "         return 0 if board[x, y] != player else 1 + in_row (x + dx , y + dy , dx , dy)\n",
        "         return any( in_row(square , dx , dy) + in_row(square , dx , dy)-1>=k\n",
        "         for (dx , dy) in ((0, 1), (1, 0), (1, 1), (1, 1)))\n"
      ],
      "metadata": {
        "id": "ixJEn0zQ4jnG"
      },
      "execution_count": null,
      "outputs": []
    },
    {
      "cell_type": "markdown",
      "source": [
        "2. Implement a Game Board using defaultdict using _init_ , new, _missing_, _hash_ ,_repr_"
      ],
      "metadata": {
        "id": "mDmtC6Vq-QPP"
      }
    },
    {
      "cell_type": "code",
      "source": [
        "\n",
        "\n",
        "class Board(defaultdict):\n",
        "    empty = '.'\n",
        "    off = '#'\n",
        "\n",
        "    def __init__(self, width=8, height=8, to_move=None, **kwds):\n",
        "        self.__dict__.update(width=width, height=height, to_move=to_move, **kwds)\n",
        "\n",
        "    def new(self, changes: dict, **kwds) -> 'Board':\n",
        "        board = Board(width=self.width, height=self.height, **kwds)\n",
        "        board.update(self)\n",
        "        board.update(changes)\n",
        "        return board\n",
        "\n",
        "    def missing(self, loc):\n",
        "        x, y = loc\n",
        "        if 0 <= x < self.width and 0 <= y < self.height:\n",
        "            return self[(x, y)]\n",
        "        else:\n",
        "            return self.off\n",
        "\n",
        "    def __hash__(self):\n",
        "        return hash(tuple(sorted(self.items()))) + hash(self.to_move)\n",
        "\n",
        "    def __repr__(self):\n",
        "        def row(y):\n",
        "            return ' '.join(self[x, y] for x in range(self.width))\n",
        "        return '\\n'.join(map(row, range(self.height))) + '\\n'"
      ],
      "metadata": {
        "id": "6r8gIQJB-w4v"
      },
      "execution_count": null,
      "outputs": []
    },
    {
      "cell_type": "markdown",
      "source": [
        "3. Implement random player(game,state) and player(search algorithm)"
      ],
      "metadata": {
        "id": "t76lLY2n7pI6"
      }
    },
    {
      "cell_type": "code",
      "source": [
        "def random_player(game, state):\n",
        "   return random.choice(list(game.actions(state)))\n",
        "   def player(search_algorithm):\n",
        " # A game player who uses the specified search_algorithm\n",
        "    return lambda game, state: search_algorithm(game, state)[1]"
      ],
      "metadata": {
        "id": "JT7Tuu9X7quQ"
      },
      "execution_count": null,
      "outputs": []
    },
    {
      "cell_type": "markdown",
      "source": [
        "Part 4 – Evaluate the AI Game Strategy using TicTocToe."
      ],
      "metadata": {
        "id": "g6pwC_918AfY"
      }
    },
    {
      "cell_type": "code",
      "source": [
        "play_game(TicTacToe(), dict(X=random_player,O=player(alphabeta_search)), verbose=True).utility\n",
        "play_game(TicTacToe(), dict(X=player(alphabeta_search),O=player(minimax_search)), verbose=True).utility\n"
      ],
      "metadata": {
        "colab": {
          "base_uri": "https://localhost:8080/",
          "height": 158
        },
        "id": "bR7jJC-I8FUx",
        "outputId": "39833fb2-7d55-43fd-e4fe-87d11813b670"
      },
      "execution_count": 19,
      "outputs": [
        {
          "output_type": "error",
          "ename": "NameError",
          "evalue": "name 'play_game' is not defined",
          "traceback": [
            "\u001b[0;31m---------------------------------------------------------------------------\u001b[0m",
            "\u001b[0;31mNameError\u001b[0m                                 Traceback (most recent call last)",
            "\u001b[0;32m<ipython-input-19-89fdfd109200>\u001b[0m in \u001b[0;36m<cell line: 1>\u001b[0;34m()\u001b[0m\n\u001b[0;32m----> 1\u001b[0;31m \u001b[0mplay_game\u001b[0m\u001b[0;34m(\u001b[0m\u001b[0mTicTacToe\u001b[0m\u001b[0;34m(\u001b[0m\u001b[0;34m)\u001b[0m\u001b[0;34m,\u001b[0m \u001b[0mdict\u001b[0m\u001b[0;34m(\u001b[0m\u001b[0mX\u001b[0m\u001b[0;34m=\u001b[0m\u001b[0mrandom_player\u001b[0m\u001b[0;34m,\u001b[0m\u001b[0mO\u001b[0m\u001b[0;34m=\u001b[0m\u001b[0mplayer\u001b[0m\u001b[0;34m(\u001b[0m\u001b[0malphabeta_search\u001b[0m\u001b[0;34m)\u001b[0m\u001b[0;34m)\u001b[0m\u001b[0;34m,\u001b[0m \u001b[0mverbose\u001b[0m\u001b[0;34m=\u001b[0m\u001b[0;32mTrue\u001b[0m\u001b[0;34m)\u001b[0m\u001b[0;34m.\u001b[0m\u001b[0mutility\u001b[0m\u001b[0;34m\u001b[0m\u001b[0;34m\u001b[0m\u001b[0m\n\u001b[0m\u001b[1;32m      2\u001b[0m \u001b[0mplay_game\u001b[0m\u001b[0;34m(\u001b[0m\u001b[0mTicTacToe\u001b[0m\u001b[0;34m(\u001b[0m\u001b[0;34m)\u001b[0m\u001b[0;34m,\u001b[0m \u001b[0mdict\u001b[0m\u001b[0;34m(\u001b[0m\u001b[0mX\u001b[0m\u001b[0;34m=\u001b[0m\u001b[0mplayer\u001b[0m\u001b[0;34m(\u001b[0m\u001b[0malphabeta_search\u001b[0m\u001b[0;34m)\u001b[0m\u001b[0;34m,\u001b[0m\u001b[0mO\u001b[0m\u001b[0;34m=\u001b[0m\u001b[0mplayer\u001b[0m\u001b[0;34m(\u001b[0m\u001b[0mminimax_search\u001b[0m\u001b[0;34m)\u001b[0m\u001b[0;34m)\u001b[0m\u001b[0;34m,\u001b[0m \u001b[0mverbose\u001b[0m\u001b[0;34m=\u001b[0m\u001b[0;32mTrue\u001b[0m\u001b[0;34m)\u001b[0m\u001b[0;34m.\u001b[0m\u001b[0mutility\u001b[0m\u001b[0;34m\u001b[0m\u001b[0;34m\u001b[0m\u001b[0m\n",
            "\u001b[0;31mNameError\u001b[0m: name 'play_game' is not defined"
          ]
        }
      ]
    },
    {
      "cell_type": "markdown",
      "source": [],
      "metadata": {
        "id": "ckzfAzox69C5"
      }
    },
    {
      "cell_type": "markdown",
      "source": [],
      "metadata": {
        "id": "SqDQwv2Oyb39"
      }
    }
  ]
}